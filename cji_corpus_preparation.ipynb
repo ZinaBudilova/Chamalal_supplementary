{
 "cells": [
  {
   "cell_type": "code",
   "execution_count": 1,
   "id": "debd5e78",
   "metadata": {},
   "outputs": [],
   "source": [
    "import pandas as pd\n",
    "from pandas_ods_reader import read_ods\n",
    "from string import punctuation"
   ]
  },
  {
   "cell_type": "code",
   "execution_count": 3,
   "id": "188b1c0c",
   "metadata": {},
   "outputs": [
    {
     "data": {
      "text/plain": [
       "'1.4.2'"
      ]
     },
     "execution_count": 3,
     "metadata": {},
     "output_type": "execute_result"
    }
   ],
   "source": [
    "pd.__version__"
   ]
  },
  {
   "cell_type": "code",
   "execution_count": 24,
   "id": "5d418d4e",
   "metadata": {},
   "outputs": [],
   "source": [
    "df = read_ods('Chamalal_examples.ods')"
   ]
  },
  {
   "cell_type": "code",
   "execution_count": 25,
   "id": "c5383af0",
   "metadata": {},
   "outputs": [
    {
     "data": {
      "text/html": [
       "<div>\n",
       "<style scoped>\n",
       "    .dataframe tbody tr th:only-of-type {\n",
       "        vertical-align: middle;\n",
       "    }\n",
       "\n",
       "    .dataframe tbody tr th {\n",
       "        vertical-align: top;\n",
       "    }\n",
       "\n",
       "    .dataframe thead th {\n",
       "        text-align: right;\n",
       "    }\n",
       "</style>\n",
       "<table border=\"1\" class=\"dataframe\">\n",
       "  <thead>\n",
       "    <tr style=\"text-align: right;\">\n",
       "      <th></th>\n",
       "      <th>Пример</th>\n",
       "      <th>Перевод</th>\n",
       "    </tr>\n",
       "  </thead>\n",
       "  <tbody>\n",
       "    <tr>\n",
       "      <th>0</th>\n",
       "      <td>бечӀналӀ а̅</td>\n",
       "      <td>колос ячменя</td>\n",
       "    </tr>\n",
       "    <tr>\n",
       "      <th>1</th>\n",
       "      <td>авлӀи хара̅ла</td>\n",
       "      <td>колоситься</td>\n",
       "    </tr>\n",
       "    <tr>\n",
       "      <th>2</th>\n",
       "      <td>а̅ сина</td>\n",
       "      <td>собирать колосья</td>\n",
       "    </tr>\n",
       "    <tr>\n",
       "      <th>3</th>\n",
       "      <td>авбе йалъна</td>\n",
       "      <td>сварить говорить шепотом�ах)</td>\n",
       "    </tr>\n",
       "    <tr>\n",
       "      <th>4</th>\n",
       "      <td>аб макӀа</td>\n",
       "      <td>это место</td>\n",
       "    </tr>\n",
       "    <tr>\n",
       "      <th>...</th>\n",
       "      <td>...</td>\n",
       "      <td>...</td>\n",
       "    </tr>\n",
       "    <tr>\n",
       "      <th>10349</th>\n",
       "      <td>э гъайлъе</td>\n",
       "      <td>свертываемость крови</td>\n",
       "    </tr>\n",
       "    <tr>\n",
       "      <th>10350</th>\n",
       "      <td>э очень</td>\n",
       "      <td>много рассказывать</td>\n",
       "    </tr>\n",
       "    <tr>\n",
       "      <th>10351</th>\n",
       "      <td>э, мйкӀале?</td>\n",
       "      <td>а, это ты?</td>\n",
       "    </tr>\n",
       "    <tr>\n",
       "      <th>10352</th>\n",
       "      <td>эгьай, йалӀамала бахелъ ишанлӀаᴴӀ</td>\n",
       "      <td>ай-ай-ай, опять не попал в цель!</td>\n",
       "    </tr>\n",
       "    <tr>\n",
       "      <th>10353</th>\n",
       "      <td>этӀудахъида уде</td>\n",
       "      <td>она истекает кровью</td>\n",
       "    </tr>\n",
       "  </tbody>\n",
       "</table>\n",
       "<p>10354 rows × 2 columns</p>\n",
       "</div>"
      ],
      "text/plain": [
       "                                  Пример                           Перевод\n",
       "0                            бечӀналӀ а̅                      колос ячменя\n",
       "1                          авлӀи хара̅ла                        колоситься\n",
       "2                                а̅ сина                  собирать колосья\n",
       "3                            авбе йалъна      сварить говорить шепотом�ах)\n",
       "4                               аб макӀа                         это место\n",
       "...                                  ...                               ...\n",
       "10349                          э гъайлъе              свертываемость крови\n",
       "10350                            э очень                много рассказывать\n",
       "10351                        э, мйкӀале?                        а, это ты?\n",
       "10352  эгьай, йалӀамала бахелъ ишанлӀаᴴӀ  ай-ай-ай, опять не попал в цель!\n",
       "10353                    этӀудахъида уде               она истекает кровью\n",
       "\n",
       "[10354 rows x 2 columns]"
      ]
     },
     "execution_count": 25,
     "metadata": {},
     "output_type": "execute_result"
    }
   ],
   "source": [
    "df"
   ]
  },
  {
   "cell_type": "code",
   "execution_count": 27,
   "id": "5256f243",
   "metadata": {},
   "outputs": [],
   "source": [
    "examples = df[\"Пример\"]"
   ]
  },
  {
   "cell_type": "code",
   "execution_count": 28,
   "id": "71fbc4c5",
   "metadata": {},
   "outputs": [],
   "source": [
    "examples = examples.str.lower().str.replace(r'[' +  punctuation + '—’]+', '', regex=True)  # to lowercase & remove punctuation\n",
    "examples = examples.str.replace('ᴴ', '2', regex=False)  # nasalization\n",
    "examples = examples.str.replace('ӏ', '1', regex=False)  # palochka\n",
    "examples = examples.str.replace(r'(.)̅', r'\\1\\1', regex=True)  # length\n",
    "\n",
    "# stress\n",
    "examples = examples.str.replace(r'[а́à]', 'а', regex=True)\n",
    "examples = examples.str.replace('é', 'е', regex=False)\n",
    "examples = examples.str.replace('и́', 'и', regex=False)\n",
    "examples = examples.str.replace('ý', 'у', regex=False)\n",
    "\n",
    "# length\n",
    "examples = examples.str.replace(r'[āā́]', 'аа', regex=True)\n",
    "examples = examples.str.replace(r'[ōṓ]', 'оо', regex=True)\n",
    "examples = examples.str.replace('ӣ', 'ии', regex=False)\n",
    "examples = examples.str.replace('ӯ', 'уу', regex=False)\n",
    "\n",
    "examples = examples.str.replace(r'(.){2}(1){2}', r'\\1\\2\\1\\2', regex=True)  # length bug fix: ссII -> сIсI, ллъъ -> лълъ\n",
    "examples = examples.str.replace(r'(.){2}(2){2}', r'\\1\\2\\1\\2', regex=True)\n",
    "examples = examples.str.replace(r'(.){2}(ъ){2}', r'\\1\\2\\1\\2', regex=True)"
   ]
  },
  {
   "cell_type": "code",
   "execution_count": 29,
   "id": "aea0826b",
   "metadata": {},
   "outputs": [
    {
     "data": {
      "text/plain": [
       "0                             беч1нал1 аа\n",
       "1                           авл1и хараала\n",
       "2                                 аа сина\n",
       "3                             авбе йалъна\n",
       "4                                аб мак1а\n",
       "                       ...               \n",
       "10349                           э гъайлъе\n",
       "10350                             э очень\n",
       "10351                           э мйк1але\n",
       "10352    эгьай йал1амала бахелъ ишанл1а21\n",
       "10353                     эт1удахъида уде\n",
       "Name: Пример, Length: 10354, dtype: object"
      ]
     },
     "execution_count": 29,
     "metadata": {},
     "output_type": "execute_result"
    }
   ],
   "source": [
    "examples"
   ]
  },
  {
   "cell_type": "code",
   "execution_count": 30,
   "id": "753ec928",
   "metadata": {},
   "outputs": [],
   "source": [
    "examples = examples.dropna()"
   ]
  },
  {
   "cell_type": "code",
   "execution_count": 34,
   "id": "a6843f3e",
   "metadata": {},
   "outputs": [],
   "source": [
    "text = \"\\n\".join(examples)\n",
    "with open(\"Magomedova_examples.txt\", \"w\", encoding=\"utf-8\") as f:\n",
    "    f.write(text)"
   ]
  }
 ],
 "metadata": {
  "kernelspec": {
   "display_name": "Python 3 (ipykernel)",
   "language": "python",
   "name": "python3"
  },
  "language_info": {
   "codemirror_mode": {
    "name": "ipython",
    "version": 3
   },
   "file_extension": ".py",
   "mimetype": "text/x-python",
   "name": "python",
   "nbconvert_exporter": "python",
   "pygments_lexer": "ipython3",
   "version": "3.9.12"
  }
 },
 "nbformat": 4,
 "nbformat_minor": 5
}
